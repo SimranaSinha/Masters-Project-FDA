# Mount drive
from google.colab import drive
drive.mount('/content/drive')

# Include Libraries
import numpy as np
import pandas as pd
import matplotlib.pyplot as plt
from sklearn.preprocessing import StandardScaler
from sklearn.cluster import KMeans
import seaborn as sns
from sklearn.cluster import AgglomerativeClustering
from sklearn.metrics import silhouette_score
from scipy.cluster.hierarchy import dendrogram, linkage

# Set working directory
%cd /content/drive/MyDrive/Research/Datasets/

# Read Urban spatial order file
data = pd.read_csv('/content/drive/MyDrive/Research/Datasets/UrbanSpatialOrder - UrbanSpatialOrder - UrbanSpatialOrder - UrbanSpatialOrder.csv')

# Print the data
print(data)

data.describe()

#Importing the preprocessing module from the scikit-learn library for accessingg the min-max scaler and standard scaler classes for scaling and standardizing the data
from sklearn.preprocessing import MinMaxScaler, StandardScaler

# rescaling the Ho,Hw,Median,Average_Circuity,Average_Node by MinMax scale

scaler1 = MinMaxScaler()
columns_to_normalize_MinMax = ['Η o (Entropy)',	'Η w (Weighted)','ĩ (Street_Length)','ς (Avearge_Circuity)','k̅ (Avearge node)']
df = data.copy()
df[columns_to_normalize_MinMax] = scaler1.fit_transform(data[columns_to_normalize_MinMax])
df
# by using fit_transform method it will computes the minimum and maximum values and also applies the transformation to the data.

df.head()

#Droping Catagorical Data
column_to_drop=['Region','City']
df1=df.drop(column_to_drop,axis=1)
print(df1)

# To implement K-means clustering
k = 3
# Initialize the KMeans model
kmeans = KMeans(n_clusters=k, random_state=42)
# Fit the model to the standardized features
kmeans.fit(df1)

k = 3
# Initialize the KMeans model
kmeans = KMeans(n_clusters=k, random_state=42)
# Fit the model to the standardized features
kmeans.fit(df1)
# Get cluster assignments for each data point
df['Cluster'] = kmeans.labels_
plt.scatter(df['P de (P dead-ends)'], df['P 4w (P-4way)'], c=df['Cluster'], cmap='viridis')
plt.title('K-Means Clustering')
plt.xlabel('P dead-ends')
plt.ylabel('P-4way')
plt.show()

correlation_matrix = df.corr()
plt.figure(figsize=(8, 5))
sns.heatmap(correlation_matrix, annot=True, cmap='coolwarm', fmt=".2f", vmin=-1, vmax=1)
# Show the plot
plt.show()

# Droping Avearge Node as it is higly corelated with Entropy"
column_to_drop=['k̅ (Avearge node)']
df=df.drop(column_to_drop,axis=1)

correlation_matrix = df.corr()
plt.figure(figsize=(8, 5))
sns.heatmap(correlation_matrix, annot=True, cmap='coolwarm', fmt=".2f", vmin=-1, vmax=1)
# Show the plot
plt.show()

# Use elbow method to determine number of clusters
wcss = []
for i in range(1, 11):
    kmeans = KMeans(n_clusters=i, init='k-means++', max_iter=300, n_init=10, random_state=0)
    kmeans.fit(df1)
    wcss.append(kmeans.inertia_)
plt.plot(range(1, 11), wcss)
plt.title('Elbow Method')
plt.xlabel('Number of clusters')
plt.ylabel('WCSS')
plt.show()

# Implement Hierarchical clustering using an appropriate linkage method
hierarchical = AgglomerativeClustering(n_clusters=3, affinity='euclidean', linkage='ward')
hierarchical.fit(df1)

linkage_methods = ['single']
# List of linkage methods to try
plt.figure(figsize=(12,10))

for i, method in enumerate(linkage_methods):
    plt.subplot(2, 2, i+1)
    Z = linkage(df1, method=method)
# Assuming data is your input data for clustering
    dendrogram(Z)
    plt.title(f'Dendrogram ({method.capitalize()} Linkage)')
# Capitalize the method name for title
    plt.xlabel('')
    plt.ylabel('')
plt.tight_layout()
plt.show()

linkage_methods = ['complete']
# List of linkage methods to try
plt.figure(figsize=(12, 10))

for i, method in enumerate(linkage_methods):
    plt.subplot(2, 2, i+1)
    Z = linkage(df1, method=method)
# Assuming data is your input data for clustering
    dendrogram(Z)
    plt.title(f'Dendrogram ({method.capitalize()} Linkage)')
plt.tight_layout()
plt.show()

from sklearn.cluster import AgglomerativeClustering

hie_clu_model2 = AgglomerativeClustering(n_clusters=3, affinity = 'euclidean', linkage='complete')
hie_clu_model2.fit_predict(hie_clus_table.iloc[:,1:3])
hie_clu_model2.labels_
hie_clus_table2 = hie_clus_table
hie_clus_table2['cluster'] = hie_clu_model2.labels_
hie_clus_table2

linkage_methods = ['average']
# List of linkage methods to try
plt.figure(figsize=(12, 10))

for i, method in enumerate(linkage_methods):
    plt.subplot(2, 2, i+1)
    Z = linkage(df1, method=method)
# Assuming data is your input data for clustering
    dendrogram(Z)
    plt.title(f'Dendrogram ({method.capitalize()} Linkage)')
plt.tight_layout()
plt.show()

linkage_methods = ['ward']
# List of linkage methods to try
plt.figure(figsize=(12, 10))
for i, method in enumerate(linkage_methods):
    plt.subplot(2, 2, i+1)
    Z = linkage(df1, method=method)
# Assuming data is your input data for clustering
    dendrogram(Z)
    plt.title(f'Dendrogram ({method.capitalize()} Linkage)')
plt.tight_layout()
plt.show()

bottom_cities = df.sort_values(by='ĩ (Street_Length)').head(5)
bottom_cities
bottom_cities = df.sort_values(by='P de (P dead-ends)').head(5)

# Plotting the bottom 5 cities
plt.figure(figsize=(10, 6))
plt.bar(bottom_cities['City'], bottom_cities['P de (P dead-ends)'], color='cyan')
plt.xlabel('City')
plt.ylabel('P dead ends')
plt.title('Bottom 5 Cities with Respect to P dead Ends')
plt.show()

top_cities = df.sort_values(by='P de (P dead-ends)', ascending=False).head(5)

# Plotting the top 5 cities
plt.figure(figsize=(10, 6))
plt.bar(top_cities['City'], top_cities['P de (P dead-ends)'], color='Red')
plt.xlabel('City')
plt.ylabel('P Dead Ends')
plt.title('Top 5 Cities with Respect to P dead Ends')
plt.show()

bottom_cities = df.sort_values(by='φ (Orientation)').head(5)

# Plotting the bottom 5 cities
plt.figure(figsize=(10, 6))
plt.bar(bottom_cities['City'], bottom_cities['φ (Orientation)'], color='cyan')
plt.xlabel('City')
plt.ylabel('Orientation')
plt.title('Bottom 5 Cities with Respect to Orientation')
plt.show()

top_cities = df.sort_values(by='φ (Orientation)', ascending=False).head(5)

# Plotting the top 5 cities
plt.figure(figsize=(10, 6))
plt.bar(top_cities['City'], top_cities['φ (Orientation)'], color='Red')
plt.xlabel('City')
plt.ylabel('Orientation')
plt.title('Top 5 Cities with Respect to Orientation')
plt.show()


